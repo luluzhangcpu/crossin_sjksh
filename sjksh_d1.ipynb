{
 "cells": [
  {
   "cell_type": "code",
   "execution_count": 5,
   "metadata": {},
   "outputs": [],
   "source": [
    "# d1\n",
    "import pandas as pd"
   ]
  },
  {
   "cell_type": "code",
   "execution_count": 6,
   "metadata": {},
   "outputs": [
    {
     "name": "stdout",
     "output_type": "stream",
     "text": [
      "                  工作名       薪资 学历要求  工作经验 是否全职                  公司名   公司类型  \\\n",
      "0         python开发工程师   8K-10K   大专  1-3年   全职           上海蜗兴科技有限公司     民营   \n",
      "1         Python开发工程师  15K-30K   本科  3-5年   全职         苏州复鹄电子科技有限公司     民营   \n",
      "2         python开发工程师  17K-30K   本科  3-5年   全职         上海心莲信息科技有限公司     民营   \n",
      "3          python后端开发     薪资面议   本科  1-3年   全职         中软国际科技服务有限公司   上市公司   \n",
      "4         python开发工程师   6K-12K   大专  3-5年   全职        三门峡崤云安全服务有限公司     国企   \n",
      "..                ...      ...  ...   ...  ...                  ...    ...   \n",
      "527   高级Java开发工程师（03）  15K-20K   本科  3-5年   全职        上海复深蓝软件股份有限公司   上市公司   \n",
      "528  Change Developer     薪资面议   本科  1-3年   全职  瑞银企业管理(中国)有限公司无锡分公司   外商独资   \n",
      "529             测试工程师  10K-15K   本科  3-5年   全职          深圳市睿服科技有限公司  股份制企业   \n",
      "530        大数据审计岗（上海）  20K-40K   本科  3-5年   全职           永辉超市股份有限公司     民营   \n",
      "531          高级sas程序员  12K-15K   本科  3-5年   全职           上海盛迪医药有限公司     民营   \n",
      "\n",
      "           公司规模                                               任职要求  其他备注  \n",
      "0        20-99人  任职要求：?1、计算机相关专业大专及以上学历；2、有Python开发经验，熟悉Django、...   NaN  \n",
      "1         20人以下  职位描述：复鹄电子科技有限公司现正集中开发对标美国DAPAR计划，具有革命颠覆性的模拟电路全...   NaN  \n",
      "2            不限    1、3年以上Python开发经验，有独立设计大规模数据处理和分析系统的经验和能力；  2...   NaN  \n",
      "3      10000人以上  熟练使用python，至少两至三年以上开发经验；熟悉常见python web框架，像djan...   NaN  \n",
      "4        20-99人   岗位职责： 1.项目的架构设计，核心模块的开发工作；  2. 系统需求分析与设计，并负责完...   NaN  \n",
      "..          ...                                                ...   ...  \n",
      "527  1000-9999人    基础编程  1、精通java和sql编程开发，熟悉java常用开发框架和类库  2、深刻...   NaN  \n",
      "528    10000人以上  Your role We are looking for a developer to wr...   NaN  \n",
      "529    500-999人    岗位职责：   1.参与项目产品的质量保证工作 ；  2.完成项目测试，包括：功能业务测...   NaN  \n",
      "530    10000人以上    1、与大数据部合作建立大数据审计平台  2、协助合伙人通过风险评估草拟年度大数据审计发展...   NaN  \n",
      "531    100-499人  JobPurpose:1.?????为临床试验项目提供各种类型的数据处理和分析方面的服务，包...   NaN  \n",
      "\n",
      "[532 rows x 10 columns]\n"
     ]
    }
   ],
   "source": [
    "# task1--读取 CSV 格式文件“task_1_zhaopin_data.csv”，并展示所有数据，数据名为为 df1;\n",
    "df1 = pd.read_csv('/Users/apple/Desktop/task_1.csv')\n",
    "print(df1)"
   ]
  },
  {
   "cell_type": "code",
   "execution_count": 7,
   "metadata": {},
   "outputs": [
    {
     "name": "stdout",
     "output_type": "stream",
     "text": [
      "<class 'pandas.core.frame.DataFrame'>\n",
      "RangeIndex: 532 entries, 0 to 531\n",
      "Data columns (total 10 columns):\n",
      " #   Column  Non-Null Count  Dtype  \n",
      "---  ------  --------------  -----  \n",
      " 0   工作名     532 non-null    object \n",
      " 1   薪资      532 non-null    object \n",
      " 2   学历要求    532 non-null    object \n",
      " 3   工作经验    532 non-null    object \n",
      " 4   是否全职    532 non-null    object \n",
      " 5   公司名     532 non-null    object \n",
      " 6   公司类型    532 non-null    object \n",
      " 7   公司规模    532 non-null    object \n",
      " 8   任职要求    532 non-null    object \n",
      " 9   其他备注    0 non-null      float64\n",
      "dtypes: float64(1), object(9)\n",
      "memory usage: 41.7+ KB\n",
      "None\n"
     ]
    }
   ],
   "source": [
    "print(df1.info())"
   ]
  },
  {
   "cell_type": "code",
   "execution_count": 8,
   "metadata": {},
   "outputs": [
    {
     "name": "stdout",
     "output_type": "stream",
     "text": [
      "                工作名       薪资 学历要求  工作经验 是否全职           公司名 公司类型        公司规模  \\\n",
      "count           532      532  532   532  532           532  532         532   \n",
      "unique          400       97    6     7    4           290   10           7   \n",
      "top     Python开发工程师  10K-15K   本科  3-5年   全职  中软国际科技服务有限公司   民营  1000-9999人   \n",
      "freq             31       56  363   200  518            11  233         139   \n",
      "\n",
      "                                                     任职要求  \n",
      "count                                                 532  \n",
      "unique                                                511  \n",
      "top     岗位职责参与项目的需求分析，逻辑设计，实现维护，部署和监管系统分析系统需求，设计系统架构，撰...  \n",
      "freq                                                    4  \n"
     ]
    }
   ],
   "source": [
    "print(df1.describe(include=['O']))"
   ]
  },
  {
   "cell_type": "code",
   "execution_count": 9,
   "metadata": {},
   "outputs": [
    {
     "name": "stdout",
     "output_type": "stream",
     "text": [
      "           工作名       薪资 学历要求  工作经验 是否全职            公司名  公司类型      公司规模  \\\n",
      "0  python开发工程师   8K-10K   大专  1-3年   全职     上海蜗兴科技有限公司    民营    20-99人   \n",
      "1  Python开发工程师  15K-30K   本科  3-5年   全职   苏州复鹄电子科技有限公司    民营     20人以下   \n",
      "2  python开发工程师  17K-30K   本科  3-5年   全职   上海心莲信息科技有限公司    民营        不限   \n",
      "3   python后端开发     薪资面议   本科  1-3年   全职   中软国际科技服务有限公司  上市公司  10000人以上   \n",
      "4  python开发工程师   6K-12K   大专  3-5年   全职  三门峡崤云安全服务有限公司    国企    20-99人   \n",
      "\n",
      "                                                任职要求  其他备注  \n",
      "0  任职要求：?1、计算机相关专业大专及以上学历；2、有Python开发经验，熟悉Django、...   NaN  \n",
      "1  职位描述：复鹄电子科技有限公司现正集中开发对标美国DAPAR计划，具有革命颠覆性的模拟电路全...   NaN  \n",
      "2    1、3年以上Python开发经验，有独立设计大规模数据处理和分析系统的经验和能力；  2...   NaN  \n",
      "3  熟练使用python，至少两至三年以上开发经验；熟悉常见python web框架，像djan...   NaN  \n",
      "4   岗位职责： 1.项目的架构设计，核心模块的开发工作；  2. 系统需求分析与设计，并负责完...   NaN  \n"
     ]
    }
   ],
   "source": [
    "# task2--利用 head 选取前部数据查看\n",
    "print(df1.head())"
   ]
  },
  {
   "cell_type": "code",
   "execution_count": 10,
   "metadata": {},
   "outputs": [
    {
     "name": "stdout",
     "output_type": "stream",
     "text": [
      "                  工作名       薪资 学历要求  工作经验 是否全职                  公司名   公司类型  \\\n",
      "527   高级Java开发工程师（03）  15K-20K   本科  3-5年   全职        上海复深蓝软件股份有限公司   上市公司   \n",
      "528  Change Developer     薪资面议   本科  1-3年   全职  瑞银企业管理(中国)有限公司无锡分公司   外商独资   \n",
      "529             测试工程师  10K-15K   本科  3-5年   全职          深圳市睿服科技有限公司  股份制企业   \n",
      "530        大数据审计岗（上海）  20K-40K   本科  3-5年   全职           永辉超市股份有限公司     民营   \n",
      "531          高级sas程序员  12K-15K   本科  3-5年   全职           上海盛迪医药有限公司     民营   \n",
      "\n",
      "           公司规模                                               任职要求  其他备注  \n",
      "527  1000-9999人    基础编程  1、精通java和sql编程开发，熟悉java常用开发框架和类库  2、深刻...   NaN  \n",
      "528    10000人以上  Your role We are looking for a developer to wr...   NaN  \n",
      "529    500-999人    岗位职责：   1.参与项目产品的质量保证工作 ；  2.完成项目测试，包括：功能业务测...   NaN  \n",
      "530    10000人以上    1、与大数据部合作建立大数据审计平台  2、协助合伙人通过风险评估草拟年度大数据审计发展...   NaN  \n",
      "531    100-499人  JobPurpose:1.?????为临床试验项目提供各种类型的数据处理和分析方面的服务，包...   NaN  \n"
     ]
    }
   ],
   "source": [
    "# task3--利用 tail 选取底部数据查看\n",
    "print(df1.tail())"
   ]
  },
  {
   "cell_type": "code",
   "execution_count": 11,
   "metadata": {},
   "outputs": [
    {
     "name": "stdout",
     "output_type": "stream",
     "text": [
      "           工作名       薪资 学历要求  工作经验 是否全职           公司名 公司类型    公司规模  \\\n",
      "0  python开发工程师   8K-10K   大专  1-3年   全职    上海蜗兴科技有限公司   民营  20-99人   \n",
      "1  Python开发工程师  15K-30K   本科  3-5年   全职  苏州复鹄电子科技有限公司   民营   20人以下   \n",
      "2  python开发工程师  17K-30K   本科  3-5年   全职  上海心莲信息科技有限公司   民营      不限   \n",
      "\n",
      "                                                任职要求  其他备注  \n",
      "0  任职要求：?1、计算机相关专业大专及以上学历；2、有Python开发经验，熟悉Django、...   NaN  \n",
      "1  职位描述：复鹄电子科技有限公司现正集中开发对标美国DAPAR计划，具有革命颠覆性的模拟电路全...   NaN  \n",
      "2    1、3年以上Python开发经验，有独立设计大规模数据处理和分析系统的经验和能力；  2...   NaN  \n"
     ]
    }
   ],
   "source": [
    "# task4--选取前 3 行数据查看\n",
    "print(df1[:3])"
   ]
  },
  {
   "cell_type": "code",
   "execution_count": 12,
   "metadata": {},
   "outputs": [
    {
     "name": "stdout",
     "output_type": "stream",
     "text": [
      "工作名                                           python开发工程师\n",
      "薪资                                                17K-30K\n",
      "学历要求                                                   本科\n",
      "工作经验                                                 3-5年\n",
      "是否全职                                                   全职\n",
      "公司名                                          上海心莲信息科技有限公司\n",
      "公司类型                                                   民营\n",
      "公司规模                                                   不限\n",
      "任职要求      1、3年以上Python开发经验，有独立设计大规模数据处理和分析系统的经验和能力；  2...\n",
      "其他备注                                                  NaN\n",
      "Name: 2, dtype: object\n"
     ]
    }
   ],
   "source": [
    "# task5--选取第 3 行数据查看\n",
    "print(df1.iloc[2])"
   ]
  },
  {
   "cell_type": "code",
   "execution_count": 14,
   "metadata": {},
   "outputs": [
    {
     "name": "stdout",
     "output_type": "stream",
     "text": [
      "    学历要求  工作经验 是否全职\n",
      "0     大专  1-3年   全职\n",
      "1     本科  3-5年   全职\n",
      "2     本科  3-5年   全职\n",
      "3     本科  1-3年   全职\n",
      "4     大专  3-5年   全职\n",
      "..   ...   ...  ...\n",
      "527   本科  3-5年   全职\n",
      "528   本科  1-3年   全职\n",
      "529   本科  3-5年   全职\n",
      "530   本科  3-5年   全职\n",
      "531   本科  3-5年   全职\n",
      "\n",
      "[532 rows x 3 columns]\n"
     ]
    }
   ],
   "source": [
    "# task6--选取【学历要求】、【工作经验】、【是否全职】3 列\n",
    "a = df1.loc[:,['学历要求','工作经验','是否全职']]\n",
    "print(a)"
   ]
  },
  {
   "cell_type": "code",
   "execution_count": 15,
   "metadata": {},
   "outputs": [
    {
     "name": "stdout",
     "output_type": "stream",
     "text": [
      "                                  工作名       薪资 学历要求  工作经验 是否全职   公司类型  \\\n",
      "公司名                                                                     \n",
      "上海蜗兴科技有限公司                python开发工程师   8K-10K   大专  1-3年   全职     民营   \n",
      "苏州复鹄电子科技有限公司              Python开发工程师  15K-30K   本科  3-5年   全职     民营   \n",
      "上海心莲信息科技有限公司              python开发工程师  17K-30K   本科  3-5年   全职     民营   \n",
      "中软国际科技服务有限公司               python后端开发     薪资面议   本科  1-3年   全职   上市公司   \n",
      "三门峡崤云安全服务有限公司             python开发工程师   6K-12K   大专  3-5年   全职     国企   \n",
      "...                               ...      ...  ...   ...  ...    ...   \n",
      "上海复深蓝软件股份有限公司         高级Java开发工程师（03）  15K-20K   本科  3-5年   全职   上市公司   \n",
      "瑞银企业管理(中国)有限公司无锡分公司  Change Developer     薪资面议   本科  1-3年   全职   外商独资   \n",
      "深圳市睿服科技有限公司                     测试工程师  10K-15K   本科  3-5年   全职  股份制企业   \n",
      "永辉超市股份有限公司                 大数据审计岗（上海）  20K-40K   本科  3-5年   全职     民营   \n",
      "上海盛迪医药有限公司                   高级sas程序员  12K-15K   本科  3-5年   全职     民营   \n",
      "\n",
      "                           公司规模  \\\n",
      "公司名                               \n",
      "上海蜗兴科技有限公司               20-99人   \n",
      "苏州复鹄电子科技有限公司              20人以下   \n",
      "上海心莲信息科技有限公司                 不限   \n",
      "中软国际科技服务有限公司           10000人以上   \n",
      "三门峡崤云安全服务有限公司            20-99人   \n",
      "...                         ...   \n",
      "上海复深蓝软件股份有限公司        1000-9999人   \n",
      "瑞银企业管理(中国)有限公司无锡分公司    10000人以上   \n",
      "深圳市睿服科技有限公司            500-999人   \n",
      "永辉超市股份有限公司             10000人以上   \n",
      "上海盛迪医药有限公司             100-499人   \n",
      "\n",
      "                                                                  任职要求  其他备注  \n",
      "公司名                                                                           \n",
      "上海蜗兴科技有限公司           任职要求：?1、计算机相关专业大专及以上学历；2、有Python开发经验，熟悉Django、...   NaN  \n",
      "苏州复鹄电子科技有限公司         职位描述：复鹄电子科技有限公司现正集中开发对标美国DAPAR计划，具有革命颠覆性的模拟电路全...   NaN  \n",
      "上海心莲信息科技有限公司           1、3年以上Python开发经验，有独立设计大规模数据处理和分析系统的经验和能力；  2...   NaN  \n",
      "中软国际科技服务有限公司         熟练使用python，至少两至三年以上开发经验；熟悉常见python web框架，像djan...   NaN  \n",
      "三门峡崤云安全服务有限公司         岗位职责： 1.项目的架构设计，核心模块的开发工作；  2. 系统需求分析与设计，并负责完...   NaN  \n",
      "...                                                                ...   ...  \n",
      "上海复深蓝软件股份有限公司          基础编程  1、精通java和sql编程开发，熟悉java常用开发框架和类库  2、深刻...   NaN  \n",
      "瑞银企业管理(中国)有限公司无锡分公司  Your role We are looking for a developer to wr...   NaN  \n",
      "深圳市睿服科技有限公司            岗位职责：   1.参与项目产品的质量保证工作 ；  2.完成项目测试，包括：功能业务测...   NaN  \n",
      "永辉超市股份有限公司             1、与大数据部合作建立大数据审计平台  2、协助合伙人通过风险评估草拟年度大数据审计发展...   NaN  \n",
      "上海盛迪医药有限公司           JobPurpose:1.?????为临床试验项目提供各种类型的数据处理和分析方面的服务，包...   NaN  \n",
      "\n",
      "[532 rows x 9 columns]\n"
     ]
    }
   ],
   "source": [
    "# task7--将【公司名】设置为 index 索引，并将表格重新命名为 df2\n",
    "df2 = df1.set_index('公司名')\n",
    "print(df2)"
   ]
  },
  {
   "cell_type": "code",
   "execution_count": 16,
   "metadata": {},
   "outputs": [
    {
     "name": "stdout",
     "output_type": "stream",
     "text": [
      "<class 'pandas.core.frame.DataFrame'>\n",
      "Index: 532 entries, 上海蜗兴科技有限公司 to 上海盛迪医药有限公司\n",
      "Data columns (total 8 columns):\n",
      " #   Column  Non-Null Count  Dtype \n",
      "---  ------  --------------  ----- \n",
      " 0   工作名     532 non-null    object\n",
      " 1   薪资      532 non-null    object\n",
      " 2   学历要求    532 non-null    object\n",
      " 3   工作经验    532 non-null    object\n",
      " 4   是否全职    532 non-null    object\n",
      " 5   公司类型    532 non-null    object\n",
      " 6   公司规模    532 non-null    object\n",
      " 7   任职要求    532 non-null    object\n",
      "dtypes: object(8)\n",
      "memory usage: 37.4+ KB\n",
      "None\n"
     ]
    }
   ],
   "source": [
    "# task8--在 df2 上删除指定列【其他备注】，并命名新表为 df3\n",
    "df3 = df2.drop(['其他备注'],axis=1)\n",
    "print(df3.info())"
   ]
  },
  {
   "cell_type": "code",
   "execution_count": 17,
   "metadata": {},
   "outputs": [
    {
     "name": "stdout",
     "output_type": "stream",
     "text": [
      "<class 'pandas.core.frame.DataFrame'>\n",
      "Index: 529 entries, 苏州复鹄电子科技有限公司 to 上海盛迪医药有限公司\n",
      "Data columns (total 8 columns):\n",
      " #   Column  Non-Null Count  Dtype \n",
      "---  ------  --------------  ----- \n",
      " 0   工作名     529 non-null    object\n",
      " 1   薪资      529 non-null    object\n",
      " 2   学历要求    529 non-null    object\n",
      " 3   工作经验    529 non-null    object\n",
      " 4   是否全职    529 non-null    object\n",
      " 5   公司类型    529 non-null    object\n",
      " 6   公司规模    529 non-null    object\n",
      " 7   任职要求    529 non-null    object\n",
      "dtypes: object(8)\n",
      "memory usage: 37.2+ KB\n",
      "None\n"
     ]
    }
   ],
   "source": [
    "# task9--在 df3 上删除指定行数据，“上海蜗兴科技有限公司”所在行，并将数据命名为 df4\n",
    "df4 = df3.drop(['上海蜗兴科技有限公司'],axis=0)\n",
    "print(df4.info())"
   ]
  },
  {
   "cell_type": "code",
   "execution_count": 18,
   "metadata": {},
   "outputs": [],
   "source": [
    "# task10--保存 df4 为 CSV 格式文件，并把被保存的 CSV 格式文件命名为“task_1_zhaopin_data_update.csv\n",
    "df4.to_csv('/Users/apple/Desktop/task_1_zhaopin_data_update.csv',encoding='gbk')"
   ]
  },
  {
   "cell_type": "code",
   "execution_count": null,
   "metadata": {},
   "outputs": [],
   "source": []
  }
 ],
 "metadata": {
  "kernelspec": {
   "display_name": "Python 3",
   "language": "python",
   "name": "python3"
  },
  "language_info": {
   "codemirror_mode": {
    "name": "ipython",
    "version": 3
   },
   "file_extension": ".py",
   "mimetype": "text/x-python",
   "name": "python",
   "nbconvert_exporter": "python",
   "pygments_lexer": "ipython3",
   "version": "3.7.6"
  }
 },
 "nbformat": 4,
 "nbformat_minor": 4
}
