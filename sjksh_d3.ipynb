{
 "cells": [
  {
   "cell_type": "code",
   "execution_count": 2,
   "metadata": {},
   "outputs": [],
   "source": [
    "# d3 利用 matplotlib 分析知乎文章相关数据并制作可视化图表\n",
    "import pandas as pd\n",
    "from matplotlib import pyplot as plt\n",
    "\n",
    "# 显示图表中的中文字符 mac可设为Hiragino Sans GB,windows可设为SimHei\n",
    "plt.rcParams['font.sans-serif'] =['Hiragino Sans GB']\n",
    "plt.rcParams['axes.unicode_minus'] = False"
   ]
  },
  {
   "cell_type": "code",
   "execution_count": 3,
   "metadata": {},
   "outputs": [
    {
     "name": "stdout",
     "output_type": "stream",
     "text": [
      "<class 'pandas.core.frame.DataFrame'>\n",
      "RangeIndex: 1029 entries, 0 to 1028\n",
      "Data columns (total 15 columns):\n",
      " #   Column  Non-Null Count  Dtype \n",
      "---  ------  --------------  ----- \n",
      " 0   类型      1029 non-null   object\n",
      " 1   id      1029 non-null   object\n",
      " 2   标签      1029 non-null   object\n",
      " 3   回答id    1029 non-null   int64 \n",
      " 4   回答点赞数   1029 non-null   int64 \n",
      " 5   回答评论数   1029 non-null   int64 \n",
      " 6   回答感谢数   1029 non-null   int64 \n",
      " 7   回答观看数   1029 non-null   int64 \n",
      " 8   回答创建时间  1029 non-null   int64 \n",
      " 9   问题id    1029 non-null   int64 \n",
      " 10  问题题目    1029 non-null   object\n",
      " 11  问题回答数   1029 non-null   int64 \n",
      " 12  问题关注数   1029 non-null   int64 \n",
      " 13  评论数     1029 non-null   int64 \n",
      " 14  创建时间    1029 non-null   int64 \n",
      "dtypes: int64(11), object(4)\n",
      "memory usage: 120.7+ KB\n",
      "None\n"
     ]
    }
   ],
   "source": [
    "# task1--读取 CSV 格式文件“task_3.1_zhihu_timeline_answer.csv”，将数据命名为 zhihu_data_answer，\n",
    "# 并查看前部数据;\n",
    "zhihu_data_answer = pd.read_csv('/Users/apple/Desktop/task_3.1_zhihu_timeline_answer.csv')\n",
    "print(zhihu_data_answer.info())"
   ]
  },
  {
   "cell_type": "code",
   "execution_count": 4,
   "metadata": {},
   "outputs": [
    {
     "name": "stdout",
     "output_type": "stream",
     "text": [
      "               回答id          回答点赞数         回答评论数          回答感谢数         回答观看数  \\\n",
      "count  1.029000e+03    1029.000000   1029.000000    1029.000000  1.029000e+03   \n",
      "mean   8.378231e+08    7849.689990    633.607386    2611.756074  7.653330e+05   \n",
      "std    8.545346e+07   17337.326711   1492.118807    7845.849610  1.077374e+06   \n",
      "min    1.162789e+08       0.000000      0.000000       0.000000  1.000000e+01   \n",
      "25%    8.081958e+08     408.000000     56.000000      53.000000  6.079900e+04   \n",
      "50%    8.577429e+08    2291.000000    228.000000     292.000000  3.246180e+05   \n",
      "75%    8.950267e+08    8074.000000    631.000000    1248.000000  1.028761e+06   \n",
      "max    9.121103e+08  295573.000000  29908.000000  102612.000000  9.005343e+06   \n",
      "\n",
      "             回答创建时间          问题id          问题回答数          问题关注数          评论数  \\\n",
      "count  1.029000e+03  1.029000e+03    1029.000000    1029.000000  1029.000000   \n",
      "mean   1.569282e+09  2.476608e+08    2363.181730   24754.673469    45.656948   \n",
      "std    8.156966e+06  1.257015e+08    5537.131186   44347.936927    70.444323   \n",
      "min    1.470912e+09  1.986435e+07       1.000000       2.000000     0.000000   \n",
      "25%    1.567158e+09  6.555165e+07     239.000000    1381.000000     6.000000   \n",
      "50%    1.571108e+09  3.096858e+08     721.000000    6056.000000    21.000000   \n",
      "75%    1.573788e+09  3.386887e+08    2612.000000   24896.000000    56.000000   \n",
      "max    1.574824e+09  3.579583e+08  104554.000000  304079.000000   606.000000   \n",
      "\n",
      "               创建时间  \n",
      "count  1.029000e+03  \n",
      "mean   1.524585e+09  \n",
      "std    5.587485e+07  \n",
      "min    1.317194e+09  \n",
      "25%    1.505796e+09  \n",
      "50%    1.547955e+09  \n",
      "75%    1.564923e+09  \n",
      "max    1.574782e+09  \n"
     ]
    }
   ],
   "source": [
    "print(zhihu_data_answer.describe())"
   ]
  },
  {
   "cell_type": "code",
   "execution_count": 5,
   "metadata": {},
   "outputs": [
    {
     "name": "stdout",
     "output_type": "stream",
     "text": [
      "       类型                 id   标签       回答id  回答点赞数  回答评论数  回答感谢数    回答观看数  \\\n",
      "0  answer  12_1574824946.178  二次元  734170020   4859    656    564  1120728   \n",
      "1  answer   13_1574824946.45   生活  629465796  46827   1594  12491  4517999   \n",
      "2  answer  14_1574824946.791   高考  344182099  25739   2465   5072  1575771   \n",
      "3  answer  15_1574824946.795   网恋  792191898   8948   1938    965  1261527   \n",
      "4  answer  17_1574824946.818   健康  868188823    884    246    235   329706   \n",
      "\n",
      "       回答创建时间       问题id                  问题题目  问题回答数  问题关注数  评论数        创建时间  \n",
      "0  1561974232   62972819  你们见过最好看的 coser 长什么样？   1607  30094   30  1501051575  \n",
      "1  1553236233   63894266          生活中有哪些残忍的真相？   2505  57217   50  1502701040  \n",
      "2  1521306846  266837866  你们是怎么考上 985 的，每科多少分？   3527  28092   64  1518015871  \n",
      "3  1566029684  270608371         网恋奔现失败是种什么体验？   5751  28491  122  1522496497  \n",
      "4  1571893264   27128132              如何有效地戒糖？    500  19048   33  1418828372  \n"
     ]
    }
   ],
   "source": [
    "print(zhihu_data_answer.head())"
   ]
  },
  {
   "cell_type": "code",
   "execution_count": 6,
   "metadata": {},
   "outputs": [
    {
     "name": "stdout",
     "output_type": "stream",
     "text": [
      "<class 'pandas.core.frame.DataFrame'>\n",
      "------------------------------\n",
      "      回答点赞数  回答感谢数\n",
      "0      4859    564\n",
      "1     46827  12491\n",
      "2     25739   5072\n",
      "3      8948    965\n",
      "4       884    235\n",
      "...     ...    ...\n",
      "1024    947    551\n",
      "1025      0      0\n",
      "1026   3608    212\n",
      "1027   1161    192\n",
      "1028   5154    665\n",
      "\n",
      "[1029 rows x 2 columns]\n"
     ]
    }
   ],
   "source": [
    "# task2--提取“task_3.1_zhihu_timeline_answer.csv”中【回答点赞数】和【回答感谢数】列数据，制成散点图，\n",
    "# 观察两者的关系\n",
    "a = zhihu_data_answer.loc[:,['回答点赞数','回答感谢数']]\n",
    "print(type(a))\n",
    "print('-'*30)\n",
    "print(a)"
   ]
  },
  {
   "cell_type": "code",
   "execution_count": 7,
   "metadata": {},
   "outputs": [
    {
     "name": "stdout",
     "output_type": "stream",
     "text": [
      "[4859, 46827, 25739, 8948, 884, 1686, 4, 95, 5968, 612]\n"
     ]
    }
   ],
   "source": [
    "# 设置横坐标轴\n",
    "a_x = a['回答点赞数'].values.tolist()\n",
    "# 仅展示 a_x 列表，前10个元素值，观测 格式转换 是否正确；下同；\n",
    "print(a_x[:10])"
   ]
  },
  {
   "cell_type": "code",
   "execution_count": 8,
   "metadata": {},
   "outputs": [
    {
     "name": "stdout",
     "output_type": "stream",
     "text": [
      "[564, 12491, 5072, 965, 235, 142, 1, 19, 2332, 46]\n"
     ]
    }
   ],
   "source": [
    "# 设置纵坐标轴\n",
    "a_y = a['回答感谢数'].tolist()\n",
    "print(a_y[:10])"
   ]
  },
  {
   "cell_type": "code",
   "execution_count": 31,
   "metadata": {},
   "outputs": [
    {
     "data": {
      "image/png": "[encoded data removed]",
      "text/plain": [
       "<Figure size 1800x1080 with 1 Axes>"
      ]
     },
     "metadata": {
      "needs_background": "light"
     },
     "output_type": "display_data"
    }
   ],
   "source": [
    "# 调用plt，作散点图\n",
    "# plt.scatter（横坐标数值，纵坐标数值，颜色，标记符号）\n",
    "# plt.scatter（横坐标数值，纵坐标数值，颜色，标记符号)\n",
    "# plt.sbuplot(a,b,c):a:行数，b:列数,c:图形序号\n",
    "plt.subplot(2,2,1)\n",
    "plt.scatter(a_x,a_y,color = 'b',marker='o')\n",
    "# 设置图片标题\n",
    "plt.title('回答点赞与感谢间的关系')\n",
    "# 设置横坐标标签\n",
    "plt.xlabel('回答点赞数')\n",
    "# 设置纵坐标标签\n",
    "plt.ylabel('回答感谢数')\n",
    "# 设置图片大小\n",
    "plt.rcParams['figure.figsize'] = (25,15)"
   ]
  },
  {
   "cell_type": "code",
   "execution_count": 32,
   "metadata": {},
   "outputs": [
    {
     "name": "stdout",
     "output_type": "stream",
     "text": [
      "      问题回答数  问题关注数\n",
      "0      1607  30094\n",
      "1      2505  57217\n",
      "2      3527  28092\n",
      "3      5751  28491\n",
      "4       500  19048\n",
      "...     ...    ...\n",
      "1024    232   5810\n",
      "1025    809   3309\n",
      "1026   4929  64602\n",
      "1027    135   2436\n",
      "1028    594  18323\n",
      "\n",
      "[1029 rows x 2 columns]\n"
     ]
    }
   ],
   "source": [
    "# task3--提取“task_3.1_zhihu_timeline_answer.csv”中【问题回答数】和【问题关注数】列数据，\n",
    "# 制成散点图， 观察两者的关系;\n",
    "b = zhihu_data_answer.loc[:,['问题回答数','问题关注数']]\n",
    "print(b)"
   ]
  },
  {
   "cell_type": "code",
   "execution_count": 33,
   "metadata": {},
   "outputs": [
    {
     "name": "stdout",
     "output_type": "stream",
     "text": [
      "[1607, 2505, 3527, 5751, 500, 636, 14628, 919, 437, 213]\n"
     ]
    }
   ],
   "source": [
    "# 设置横坐标轴\n",
    "b_x = b['问题回答数'].values.tolist()\n",
    "print(b_x[:10])"
   ]
  },
  {
   "cell_type": "code",
   "execution_count": 34,
   "metadata": {},
   "outputs": [
    {
     "name": "stdout",
     "output_type": "stream",
     "text": [
      "[30094, 57217, 28092, 28491, 19048, 3814, 129885, 15872, 117434, 3686]\n"
     ]
    }
   ],
   "source": [
    "# 设置纵坐标轴\n",
    "b_y = b['问题关注数'].tolist()\n",
    "print(b_y[:10])"
   ]
  },
  {
   "cell_type": "code",
   "execution_count": 35,
   "metadata": {},
   "outputs": [
    {
     "data": {
      "image/png": "[encoded data removed]",
      "text/plain": [
       "<Figure size 1800x1080 with 1 Axes>"
      ]
     },
     "metadata": {
      "needs_background": "light"
     },
     "output_type": "display_data"
    }
   ],
   "source": [
    "# 调用plt，作散点图\n",
    "# plt.scatter（横坐标数值，纵坐标数值，颜色，标记符号\n",
    "plt.subplot(2,2,2)\n",
    "plt.scatter(b_x,b_y,color = 'b',marker='o')\n",
    "# 设置图片标题\n",
    "plt.title('问题回答数与关注数间的关系')\n",
    "# 设置横坐标标签\n",
    "plt.xlabel('问题回答数')\n",
    "# 设置纵坐标标签\n",
    "plt.ylabel('问题关注数')\n",
    "# 设置图片大小\n",
    "plt.rcParams['figure.figsize'] = (25,15)"
   ]
  },
  {
   "cell_type": "code",
   "execution_count": 36,
   "metadata": {},
   "outputs": [
    {
     "name": "stdout",
     "output_type": "stream",
     "text": [
      "          类型               总 id                     关键词     文章 id  文章点赞数  \\\n",
      "0    article  14_1574825136.990                     李小璐  90620737    774   \n",
      "1    article  14_1574825137.717                     主持人  90576308  25365   \n",
      "2    article  13_1574825137.707                      刘涛  92353372    339   \n",
      "3    article  14_1574825138.917                    网贷风险  83742265    149   \n",
      "4    article  16_1574825138.573                陈情令（电视剧）  93060585     38   \n",
      "..       ...                ...                     ...       ...    ...   \n",
      "491  article  14_1574825320.773                     体制内  77431584    565   \n",
      "492  article  15_1574825320.715                   香港娱乐圈  90663584    380   \n",
      "493  article  16_1574825320.248                   加密/解密  93672329      1   \n",
      "494  article  12_1574825320.700  李小璐 & PG_ONE（2017年末事件）  89556408   1485   \n",
      "495  article  17_1574825320.876                      家居  88551490    134   \n",
      "\n",
      "     文章评论数                   文章题目（文章没有感谢数）    文章观看数      文章创建时间  \n",
      "0      267    “李小璐出轨视频曝光7天后，我识破了令人胆寒的爱情真相”   245037  1573089756  \n",
      "1     1157       谢娜与董卿同台被“碾压”: 文化断层到底有多可怕?  1072054  1573047546  \n",
      "2       65                         刘涛，你够了！   215292  1574051699  \n",
      "3       90               因面子，深陷网贷的我，最后这样上岸    63565  1569225309  \n",
      "4        1         你是什么样的含光君？浅析剧版与书版蓝忘机的差异     2779  1574349813  \n",
      "..     ...                             ...      ...         ...  \n",
      "491    148                   在体制内如何正确称呼领导？   135991  1565357442  \n",
      "492     65  万绮雯：“香港第一美腿”，与甄子丹热恋4年，又7天后闪婚编剧    98046  1573101642  \n",
      "493      0                        RSA 与SSL       11  1574698008  \n",
      "494    350                        李小璐失去了太多   531518  1572534236  \n",
      "495     80                    青岛房价重回2016年？    34482  1572019783  \n",
      "\n",
      "[496 rows x 9 columns]\n"
     ]
    }
   ],
   "source": [
    "# task4--读取 CSV 格式文件“task_3.2_zhihu_timeline_article.csv”，\n",
    "# 将数据命名为 zhihu_data_article，并查看 前部数据;\n",
    "zhihu_data_article = pd.read_csv('/Users/apple/Desktop/task_3.2_zhihu_timeline_article.csv')\n",
    "print(zhihu_data_article)"
   ]
  },
  {
   "cell_type": "code",
   "execution_count": 37,
   "metadata": {},
   "outputs": [
    {
     "name": "stdout",
     "output_type": "stream",
     "text": [
      "<class 'pandas.core.frame.DataFrame'>\n",
      "RangeIndex: 496 entries, 0 to 495\n",
      "Data columns (total 9 columns):\n",
      " #   Column         Non-Null Count  Dtype \n",
      "---  ------         --------------  ----- \n",
      " 0   类型             496 non-null    object\n",
      " 1   总 id           496 non-null    object\n",
      " 2   关键词            496 non-null    object\n",
      " 3   文章 id          496 non-null    int64 \n",
      " 4   文章点赞数          496 non-null    int64 \n",
      " 5   文章评论数          496 non-null    int64 \n",
      " 6   文章题目（文章没有感谢数）  496 non-null    object\n",
      " 7   文章观看数          496 non-null    int64 \n",
      " 8   文章创建时间         496 non-null    int64 \n",
      "dtypes: int64(5), object(4)\n",
      "memory usage: 35.0+ KB\n",
      "None\n"
     ]
    }
   ],
   "source": [
    "print(zhihu_data_article.info())"
   ]
  },
  {
   "cell_type": "code",
   "execution_count": 38,
   "metadata": {},
   "outputs": [
    {
     "name": "stdout",
     "output_type": "stream",
     "text": [
      "              文章 id         文章点赞数        文章评论数         文章观看数        文章创建时间\n",
      "count  4.960000e+02    496.000000   496.000000  4.960000e+02  4.960000e+02\n",
      "mean   8.677374e+07   2598.387097   295.633065  3.008528e+05  1.570314e+09\n",
      "std    9.691967e+06   5882.901583   548.519490  5.473216e+05  9.563336e+06\n",
      "min    2.289465e+07      0.000000     0.000000  6.000000e+00  1.476244e+09\n",
      "25%    8.456310e+07     80.000000    18.500000  1.325450e+04  1.570257e+09\n",
      "50%    8.944848e+07    512.000000   102.000000  9.642000e+04  1.572499e+09\n",
      "75%    9.216102e+07   2147.000000   288.000000  3.441048e+05  1.573945e+09\n",
      "max    9.388997e+07  48556.000000  4529.000000  4.059937e+06  1.574821e+09\n"
     ]
    }
   ],
   "source": [
    "print(zhihu_data_article.describe())"
   ]
  },
  {
   "cell_type": "code",
   "execution_count": 39,
   "metadata": {},
   "outputs": [
    {
     "name": "stdout",
     "output_type": "stream",
     "text": [
      "        类型               总 id       关键词     文章 id  文章点赞数  文章评论数  \\\n",
      "0  article  14_1574825136.990       李小璐  90620737    774    267   \n",
      "1  article  14_1574825137.717       主持人  90576308  25365   1157   \n",
      "2  article  13_1574825137.707        刘涛  92353372    339     65   \n",
      "3  article  14_1574825138.917      网贷风险  83742265    149     90   \n",
      "4  article  16_1574825138.573  陈情令（电视剧）  93060585     38      1   \n",
      "\n",
      "                  文章题目（文章没有感谢数）    文章观看数      文章创建时间  \n",
      "0  “李小璐出轨视频曝光7天后，我识破了令人胆寒的爱情真相”   245037  1573089756  \n",
      "1     谢娜与董卿同台被“碾压”: 文化断层到底有多可怕?  1072054  1573047546  \n",
      "2                       刘涛，你够了！   215292  1574051699  \n",
      "3             因面子，深陷网贷的我，最后这样上岸    63565  1569225309  \n",
      "4       你是什么样的含光君？浅析剧版与书版蓝忘机的差异     2779  1574349813  \n"
     ]
    }
   ],
   "source": [
    "print(zhihu_data_article.head())"
   ]
  },
  {
   "cell_type": "code",
   "execution_count": 40,
   "metadata": {},
   "outputs": [
    {
     "name": "stdout",
     "output_type": "stream",
     "text": [
      "     文章点赞数  文章评论数\n",
      "0      774    267\n",
      "1    25365   1157\n",
      "2      339     65\n",
      "3      149     90\n",
      "4       38      1\n",
      "..     ...    ...\n",
      "491    565    148\n",
      "492    380     65\n",
      "493      1      0\n",
      "494   1485    350\n",
      "495    134     80\n",
      "\n",
      "[496 rows x 2 columns]\n"
     ]
    }
   ],
   "source": [
    "# task5--提取“task_3.2_zhihu_timeline_article.csv”中【文章点赞数】和【文章评论数】列数据，\n",
    "# 制成散点图， 观察两者的关系\n",
    "c = zhihu_data_article.loc[:,['文章点赞数','文章评论数']]\n",
    "print(c)"
   ]
  },
  {
   "cell_type": "code",
   "execution_count": 41,
   "metadata": {},
   "outputs": [
    {
     "name": "stdout",
     "output_type": "stream",
     "text": [
      "[774, 25365, 339, 149, 38, 305, 417, 2864, 2736, 171]\n"
     ]
    }
   ],
   "source": [
    "# 设置横坐标\n",
    "c_x = c.iloc[:,0].tolist()\n",
    "print(c_x[:10])"
   ]
  },
  {
   "cell_type": "code",
   "execution_count": 42,
   "metadata": {},
   "outputs": [
    {
     "name": "stdout",
     "output_type": "stream",
     "text": [
      "[267, 1157, 65, 90, 1, 200, 48, 234, 95, 15]\n"
     ]
    }
   ],
   "source": [
    "# 设置纵坐标\n",
    "c_y = c.iloc[:,1].tolist()\n",
    "print(c_y[:10])"
   ]
  },
  {
   "cell_type": "code",
   "execution_count": 43,
   "metadata": {},
   "outputs": [
    {
     "data": {
      "image/png": "[encoded data removed]",
      "text/plain": [
       "<Figure size 1800x1080 with 1 Axes>"
      ]
     },
     "metadata": {
      "needs_background": "light"
     },
     "output_type": "display_data"
    }
   ],
   "source": [
    "# 调用plt，作散点图\n",
    "# plt.scatter（横坐标数值，纵坐标数值，颜色，标记符号）\n",
    "plt.subplot(2,2,3)\n",
    "plt.scatter(c_x,c_y,color = 'b',marker='o')\n",
    "# 设置图片标题\n",
    "plt.title('文章点赞数与评论数间的关系')\n",
    "# 设置横坐标标签\n",
    "plt.xlabel('文章点赞数')\n",
    "# 设置纵坐标标签\n",
    "plt.ylabel('文章评论数')\n",
    "# 设置图片大小\n",
    "plt.rcParams['figure.figsize'] = (25,15)"
   ]
  },
  {
   "cell_type": "code",
   "execution_count": 44,
   "metadata": {},
   "outputs": [
    {
     "name": "stdout",
     "output_type": "stream",
     "text": [
      "0      774\n",
      "2      339\n",
      "3      149\n",
      "4       38\n",
      "5      305\n",
      "      ... \n",
      "489    417\n",
      "491    565\n",
      "492    380\n",
      "493      1\n",
      "495    134\n",
      "Name: 文章点赞数, Length: 305, dtype: int64\n",
      "------------------------------\n",
      "<class 'pandas.core.series.Series'>\n"
     ]
    }
   ],
   "source": [
    "# task6--提取“task_3.2_zhihu_timeline_article.csv”中【文章点赞数】低于 1000 的行数据，\n",
    "# 作出箱型图(阅读参 考文章 5)\n",
    "d = zhihu_data_article[zhihu_data_article['文章点赞数'] < 1000]['文章点赞数']\n",
    "print(d)\n",
    "print('-'*30)\n",
    "print(type(d))"
   ]
  },
  {
   "cell_type": "code",
   "execution_count": 45,
   "metadata": {},
   "outputs": [
    {
     "name": "stdout",
     "output_type": "stream",
     "text": [
      "[774, 339, 149, 38, 305, 417, 171, 170, 468, 521]\n"
     ]
    }
   ],
   "source": [
    "d_x = d.tolist()\n",
    "print(d_x[:10])"
   ]
  },
  {
   "cell_type": "code",
   "execution_count": 46,
   "metadata": {},
   "outputs": [
    {
     "data": {
      "image/png": "[encoded data removed]",
      "text/plain": [
       "<Figure size 1800x1080 with 1 Axes>"
      ]
     },
     "metadata": {
      "needs_background": "light"
     },
     "output_type": "display_data"
    }
   ],
   "source": [
    "# 调用plt，作箱型图\n",
    "# plt.boxplot(x)\n",
    "plt.subplot(2,2,4)\n",
    "plt.boxplot(d_x)\n",
    "# 设置图片标题\n",
    "plt.title('文章点赞数小于1000者箱型图')\n",
    "# 设置图片横轴标签\n",
    "plt.xlabel(\"箱型图\")\n",
    "# 设置图片纵轴标签\n",
    "plt.ylabel(\"点赞数\")\n",
    "# 设置图片大小\n",
    "plt.rcParams['figure.figsize'] = (25,15)\n",
    "# 展示所有图片，即，4张图合并在一起展示\n",
    "plt.show()"
   ]
  },
  {
   "cell_type": "code",
   "execution_count": null,
   "metadata": {},
   "outputs": [],
   "source": []
  }
 ],
 "metadata": {
  "kernelspec": {
   "display_name": "Python 3",
   "language": "python",
   "name": "python3"
  },
  "language_info": {
   "codemirror_mode": {
    "name": "ipython",
    "version": 3
   },
   "file_extension": ".py",
   "mimetype": "text/x-python",
   "name": "python",
   "nbconvert_exporter": "python",
   "pygments_lexer": "ipython3",
   "version": "3.7.6"
  }
 },
 "nbformat": 4,
 "nbformat_minor": 4
}
